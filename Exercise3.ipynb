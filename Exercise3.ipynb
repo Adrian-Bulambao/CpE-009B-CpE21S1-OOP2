{
  "nbformat": 4,
  "nbformat_minor": 0,
  "metadata": {
    "colab": {
      "provenance": [],
      "authorship_tag": "ABX9TyNgrwvNp7w0uXQ6VzZbd/3I",
      "include_colab_link": true
    },
    "kernelspec": {
      "name": "python3",
      "display_name": "Python 3"
    },
    "language_info": {
      "name": "python"
    }
  },
  "cells": [
    {
      "cell_type": "markdown",
      "metadata": {
        "id": "view-in-github",
        "colab_type": "text"
      },
      "source": [
        "<a href=\"https://colab.research.google.com/github/Adrian-Bulambao/CpE-009B-CpE21S1-OOP2/blob/main/Exercise3.ipynb\" target=\"_parent\"><img src=\"https://colab.research.google.com/assets/colab-badge.svg\" alt=\"Open In Colab\"/></a>"
      ]
    },
    {
      "cell_type": "code",
      "execution_count": 1,
      "metadata": {
        "colab": {
          "base_uri": "https://localhost:8080/"
        },
        "id": "QkGklv1UtrIk",
        "outputId": "a8b2c072-893e-469c-d42b-d3140017f142"
      },
      "outputs": [
        {
          "output_type": "stream",
          "name": "stdout",
          "text": [
            "Enter rectangle width: 12\n",
            "Enter rectangle height: 13\n",
            "Area of rectangle:  156\n",
            "Perimeter of rectangle:  50\n"
          ]
        }
      ],
      "source": [
        "class Rectangle():\n",
        "  def __init__(self, width, height):\n",
        "    self.width = width\n",
        "    self.height = height\n",
        "\n",
        "w = int(input(\"Enter rectangle width: \"))\n",
        "h = int(input(\"Enter rectangle height: \"))\n",
        "rectang = Rectangle(w, h)\n",
        "def Area():\n",
        "  print(\"Area of rectangle: \", rectang.width * rectang.height)\n",
        "def Perimeter():\n",
        "  print(\"Perimeter of rectangle: \", 2*(rectang.width + rectang.height))\n",
        "\n",
        "Area()\n",
        "Perimeter()"
      ]
    }
  ]
}