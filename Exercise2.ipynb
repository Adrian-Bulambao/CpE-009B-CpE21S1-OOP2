{
  "nbformat": 4,
  "nbformat_minor": 0,
  "metadata": {
    "colab": {
      "provenance": [],
      "authorship_tag": "ABX9TyNhBK5nC+W1CHn9aEmBXkJU",
      "include_colab_link": true
    },
    "kernelspec": {
      "name": "python3",
      "display_name": "Python 3"
    },
    "language_info": {
      "name": "python"
    }
  },
  "cells": [
    {
      "cell_type": "markdown",
      "metadata": {
        "id": "view-in-github",
        "colab_type": "text"
      },
      "source": [
        "<a href=\"https://colab.research.google.com/github/Adrian-Bulambao/CpE-009B-CpE21S1-OOP2/blob/main/Exercise2.ipynb\" target=\"_parent\"><img src=\"https://colab.research.google.com/assets/colab-badge.svg\" alt=\"Open In Colab\"/></a>"
      ]
    },
    {
      "cell_type": "markdown",
      "source": [],
      "metadata": {
        "id": "89g_KUXyPtyB"
      }
    },
    {
      "cell_type": "code",
      "execution_count": 4,
      "metadata": {
        "colab": {
          "base_uri": "https://localhost:8080/"
        },
        "id": "mxfgyuNQPbUB",
        "outputId": "a8903205-2f2f-4df1-c2b7-6324c07cb651"
      },
      "outputs": [
        {
          "output_type": "stream",
          "name": "stdout",
          "text": [
            "Enter Grade: 100\n",
            "Student has passed\n"
          ]
        }
      ],
      "source": [
        "grade = float(input(\"Enter Grade: \"))\n",
        "if grade >= 75:\n",
        "   print(\"Student has passed\")\n",
        "elif grade >= 74:\n",
        "  print(\"Student needs remedial\")\n",
        "elif grade <= 0:\n",
        "  print(\"Student grade not accepted\")\n",
        "elif grade > 100:\n",
        "  print(\"Grade not accepted\")\n",
        "else:\n",
        "  print(\"Student has failed\")"
      ]
    },
    {
      "cell_type": "markdown",
      "source": [],
      "metadata": {
        "id": "OAmY9hljPsh5"
      }
    }
  ]
}