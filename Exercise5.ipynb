{
  "nbformat": 4,
  "nbformat_minor": 0,
  "metadata": {
    "colab": {
      "provenance": [],
      "authorship_tag": "ABX9TyPfeIh6uoR9Yr3Kf3h8Lywb",
      "include_colab_link": true
    },
    "kernelspec": {
      "name": "python3",
      "display_name": "Python 3"
    },
    "language_info": {
      "name": "python"
    }
  },
  "cells": [
    {
      "cell_type": "markdown",
      "metadata": {
        "id": "view-in-github",
        "colab_type": "text"
      },
      "source": [
        "<a href=\"https://colab.research.google.com/github/Adrian-Bulambao/CpE-009B-CpE21S1-OOP2/blob/main/Exercise5.ipynb\" target=\"_parent\"><img src=\"https://colab.research.google.com/assets/colab-badge.svg\" alt=\"Open In Colab\"/></a>"
      ]
    },
    {
      "cell_type": "code",
      "source": [
        "#polymorphism\n",
        "class Person:\n",
        "  def __init__(self,name,age):\n",
        "    self.name = name\n",
        "    self.age = age\n",
        "\n",
        "#Inheritance\n",
        "class Student(Person):\n",
        "  def traits(self):\n",
        "    return f\"studying, playing, sleeping,\"\n",
        "\n",
        "class Teacher(Person):\n",
        "  def traits(self):\n",
        "    return f\"teaching, encode, socialize\"\n",
        "\n",
        "student = Student(\"Ana\", 20)\n",
        "teacher = Teacher(\"maam Sayo\", 41)\n",
        "\n",
        "print(\"As a student, I do\", student.traits() )\n",
        "print(\"As a teacher, I do\", teacher.traits() )"
      ],
      "metadata": {
        "colab": {
          "base_uri": "https://localhost:8080/"
        },
        "id": "VQptk_PfQ5L5",
        "outputId": "40344320-1ee3-4f12-e081-b8a17136f701"
      },
      "execution_count": 11,
      "outputs": [
        {
          "output_type": "stream",
          "name": "stdout",
          "text": [
            "As a student, I do studying, playing, sleeping,\n",
            "As a teacher, I do teaching, encode, socialize\n"
          ]
        }
      ]
    },
    {
      "cell_type": "code",
      "source": [
        "#Design a program with polymorphism\n",
        "\n",
        "class Artifacts:\n",
        "  def __init__(self, user,health, attack, defense):\n",
        "    self.user = user\n",
        "    self.health = health\n",
        "    self.attack = attack\n",
        "    self.defense = defense\n",
        "\n",
        "#Inheritance\n",
        "class Amulet(Artifacts):\n",
        "  def stats(self):\n",
        "    print (f\"The player\", self.user, \"has gained the following from the artifact: \\n\", \"+\", self.health, \"% Health bonus\\n\", \"+\",  self.attack, \"% Attack Bonus \\n\", \"+\", self. defense, \"% Defense Bonus\")\n",
        "\n",
        "a = input(str(\"Enter name: \"))\n",
        "b = int(input(\"Enter artifact health bonus: \"))\n",
        "c = int (input(\"Enter artifact attack bonus: \"))\n",
        "d = int(input(\"Enter artifact defense bonus: \"))\n",
        "\n",
        "print(\"\")\n",
        "\n",
        "player1 = Amulet(a, b, c, d)\n",
        "\n",
        "\n",
        "class Timepiece(Artifacts):\n",
        "  def stats(self):\n",
        "    print (f\"The player\", self.user, \"has gained the following from the artifact: \\n\", \"+\", self.health, \"% Health bonus\\n\", \"+\",  self.attack, \"% Attack Bonus \\n\", \"+\", self. defense, \"% Defense Bonus\")\n",
        "\n",
        "e = input(str(\"Enter name: \"))\n",
        "f = int(input(\"Enter artifact health bonus: \"))\n",
        "g = int (input(\"Enter artifact attack bonus: \"))\n",
        "h = int(input(\"Enter artifact defense bonus: \"))\n",
        "print(\"\")\n",
        "\n",
        "player2 = Timepiece(e, f, g, h)\n",
        "\n",
        "player1.stats()\n",
        "print(\"\")\n",
        "player2.stats()"
      ],
      "metadata": {
        "colab": {
          "base_uri": "https://localhost:8080/"
        },
        "id": "LoUoRnWpU724",
        "outputId": "2156c568-bda9-47e7-fa87-8fecdd212c05"
      },
      "execution_count": 20,
      "outputs": [
        {
          "output_type": "stream",
          "name": "stdout",
          "text": [
            "Enter name: A\n",
            "Enter artifact health bonus: 55\n",
            "Enter artifact attack bonus: 245\n",
            "Enter artifact defense bonus: 20\n",
            "\n",
            "Enter name: B\n",
            "Enter artifact health bonus: 62\n",
            "Enter artifact attack bonus: 128\n",
            "Enter artifact defense bonus: 143\n",
            "\n",
            "The player A has gained the following from the artifact: \n",
            " + 55 % Health bonus\n",
            " + 245 % Attack Bonus \n",
            " + 20 % Defense Bonus\n",
            "\n",
            "The player B has gained the following from the artifact: \n",
            " + 62 % Health bonus\n",
            " + 128 % Attack Bonus \n",
            " + 143 % Defense Bonus\n"
          ]
        }
      ]
    }
  ]
}