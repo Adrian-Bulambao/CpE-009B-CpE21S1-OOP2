{
  "nbformat": 4,
  "nbformat_minor": 0,
  "metadata": {
    "colab": {
      "provenance": [],
      "authorship_tag": "ABX9TyMKyxXv/4BmJTLJnXN97bzr",
      "include_colab_link": true
    },
    "kernelspec": {
      "name": "python3",
      "display_name": "Python 3"
    },
    "language_info": {
      "name": "python"
    }
  },
  "cells": [
    {
      "cell_type": "markdown",
      "metadata": {
        "id": "view-in-github",
        "colab_type": "text"
      },
      "source": [
        "<a href=\"https://colab.research.google.com/github/Adrian-Bulambao/CpE-009B-CpE21S1-OOP2/blob/main/Exercise_4.ipynb\" target=\"_parent\"><img src=\"https://colab.research.google.com/assets/colab-badge.svg\" alt=\"Open In Colab\"/></a>"
      ]
    },
    {
      "cell_type": "markdown",
      "source": [],
      "metadata": {
        "id": "N3DLLUTCI_4N"
      }
    },
    {
      "cell_type": "markdown",
      "source": [],
      "metadata": {
        "id": "i89LWWMcI_70"
      }
    },
    {
      "cell_type": "code",
      "source": [
        "#Example 1\n",
        "#Encapsulation\n",
        "class foo:\n",
        "  def __init__(self, a, b):\n",
        "    self._a = a\n",
        "    self._b = b\n",
        "  def add(self):\n",
        "    return self._a + self._b\n",
        "foo_object = foo(3,4)\n",
        "foo_object.add()\n"
      ],
      "metadata": {
        "colab": {
          "base_uri": "https://localhost:8080/"
        },
        "id": "b_FUKUrMJANL",
        "outputId": "9c16f060-5a6a-40c7-d972-e26a5f371eb2"
      },
      "execution_count": 8,
      "outputs": [
        {
          "output_type": "execute_result",
          "data": {
            "text/plain": [
              "7"
            ]
          },
          "metadata": {},
          "execution_count": 8
        }
      ]
    },
    {
      "cell_type": "code",
      "source": [
        "#Additional\n",
        "#Encapsulation\n",
        "class Person:\n",
        "  def __init__(self, name, age):\n",
        "    self.name = name\n",
        "    self.age = age\n",
        "  def display(self):\n",
        "    return f\"My name is {self.name} and my age is {self.age}\"\n",
        "p1 = Person(\"Ana\",15)\n",
        "p1.display()"
      ],
      "metadata": {
        "colab": {
          "base_uri": "https://localhost:8080/",
          "height": 36
        },
        "id": "kUTU7E-bOE8D",
        "outputId": "a4c572e4-4a22-4b70-96a1-164442603df5"
      },
      "execution_count": 11,
      "outputs": [
        {
          "output_type": "execute_result",
          "data": {
            "text/plain": [
              "'My name is Ana and my age is 15'"
            ],
            "application/vnd.google.colaboratory.intrinsic+json": {
              "type": "string"
            }
          },
          "metadata": {},
          "execution_count": 11
        }
      ]
    },
    {
      "cell_type": "code",
      "source": [
        "#Example 2:\n",
        "class Counter:\n",
        "  def __init__(self):\n",
        "    self.current = 0\n",
        "  def increment(self):\n",
        "    self.current += 1\n",
        "  def value(self):\n",
        "    return self.current\n",
        "  def reset(self):\n",
        "    self.current = 0\n",
        "\n",
        "counter = Counter()\n",
        "counter.increment()\n",
        "counter.increment()\n",
        "counter.increment()\n",
        "print(counter.value())"
      ],
      "metadata": {
        "colab": {
          "base_uri": "https://localhost:8080/"
        },
        "id": "_LnhgK20POZ7",
        "outputId": "95180be9-f1e0-403c-8bf2-dd6540dcbf1a"
      },
      "execution_count": 14,
      "outputs": [
        {
          "output_type": "stream",
          "name": "stdout",
          "text": [
            "3\n"
          ]
        }
      ]
    },
    {
      "cell_type": "code",
      "source": [
        "class RegularPolygon:\n",
        "  def __init__(self,side):\n",
        "    self.side = side\n",
        "class Square(RegularPolygon):\n",
        "  def area(self):\n",
        "    return self.side * self.side\n",
        "class EquilateralTriangle(RegularPolygon):\n",
        "  def area(self):\n",
        "    return self.side * self.side * 0.433\n",
        "\n",
        "a = 20\n",
        "\n",
        "print(Square(a).area())\n",
        "print(EquilateralTriangle(a).area())"
      ],
      "metadata": {
        "colab": {
          "base_uri": "https://localhost:8080/"
        },
        "id": "tIGgGdLzRC2T",
        "outputId": "a67f4f7f-568b-4c07-ba39-694b85abe1e6"
      },
      "execution_count": 20,
      "outputs": [
        {
          "output_type": "stream",
          "name": "stdout",
          "text": [
            "400\n",
            "173.2\n"
          ]
        }
      ]
    },
    {
      "cell_type": "code",
      "source": [
        "#Application 1\n",
        "\n",
        "class Person():\n",
        "  def __init__(self,pre,mid,fin):\n",
        "    self.std1 = \"Matthew\"\n",
        "    self.std2 = \"Peter\"\n",
        "    self.std3 = \"Chris\"\n",
        "    self.__pre = pre\n",
        "    self.__mid = mid\n",
        "    self.__fin = fin\n",
        "  def Student1(self):\n",
        "    return f\"Student name is {self.std1}\"\n",
        "  def Student2(self):\n",
        "    return f\"Student name is {self.std2}\"\n",
        "  def Student3(self):\n",
        "    return f\"Student name is {self.std3}\"\n",
        "  def Grade(self):\n",
        "    return f\"Student average: {(self.__pre + self.__mid + self.__fin)*(1/3)}\"\n",
        "\n",
        "\n",
        "student1=Person(90,91,89)\n",
        "print(student1.Student1())\n",
        "print(student1.Grade())\n",
        "student2=Person(92,87,92)\n",
        "print(student2.Student2())\n",
        "print(student2.Grade())\n",
        "student3=Person(93,92,88)\n",
        "print(student3.Student3())\n",
        "print(student3.Grade())"
      ],
      "metadata": {
        "colab": {
          "base_uri": "https://localhost:8080/"
        },
        "id": "8qff3PevP8jr",
        "outputId": "bd1827c1-777b-4231-abdc-d75ce12dc1e7"
      },
      "execution_count": 42,
      "outputs": [
        {
          "output_type": "stream",
          "name": "stdout",
          "text": [
            "Student name is Matthew\n",
            "Student average: 90.0\n",
            "Student name is Peter\n",
            "Student average: 90.33333333333333\n",
            "Student name is Chris\n",
            "Student average: 91.0\n"
          ]
        }
      ]
    }
  ]
}